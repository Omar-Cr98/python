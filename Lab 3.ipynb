{
 "cells": [
  {
   "cell_type": "code",
   "execution_count": 4,
   "metadata": {},
   "outputs": [
    {
     "name": "stdout",
     "output_type": "stream",
     "text": [
      "['n', 'a', 'm', 'e', 'i', 's', 'm', 'a', 'r']\n"
     ]
    }
   ],
   "source": [
    "import re\n",
    "\n",
    "txt = \"My name is Omar\"\n",
    "\n",
    "#Find all lower case characters alphabetically between \"a\" and \"m\":\n",
    "\n",
    "x = re.findall(\"[a-s]\", txt)\n",
    "print(x)"
   ]
  },
  {
   "cell_type": "code",
   "execution_count": 5,
   "metadata": {},
   "outputs": [
    {
     "name": "stdout",
     "output_type": "stream",
     "text": [
      "['2', '2', '6']\n"
     ]
    }
   ],
   "source": [
    "import re\n",
    "\n",
    "txt = \"I am 22 old and 6 months\"\n",
    "\n",
    "#Find all digit characters:\n",
    "\n",
    "x = re.findall(\"\\d\", txt)\n",
    "print(x)\n"
   ]
  },
  {
   "cell_type": "code",
   "execution_count": 7,
   "metadata": {},
   "outputs": [
    {
     "name": "stdout",
     "output_type": "stream",
     "text": [
      "['omar']\n"
     ]
    }
   ],
   "source": [
    "import re\n",
    "\n",
    "txt = \"My name is omar\"\n",
    "\n",
    "#Search for a sequence that starts with \"he\", followed by two (any) characters, and an \"o\":\n",
    "\n",
    "x = re.findall(\"om.r\", txt)\n",
    "print(x)\n"
   ]
  },
  {
   "cell_type": "code",
   "execution_count": 8,
   "metadata": {},
   "outputs": [
    {
     "name": "stdout",
     "output_type": "stream",
     "text": [
      "No match\n"
     ]
    }
   ],
   "source": [
    "import re\n",
    "\n",
    "txt = \"This is the third lab in information retrieval\"\n",
    "\n",
    "#Check if the string starts with 'hello':\n",
    "\n",
    "x = re.findall(\"^omar\", txt)\n",
    "if x:\n",
    "  print(\"Yes, the string starts with 'hello'\")\n",
    "else:\n",
    "  print(\"No match\")"
   ]
  },
  {
   "cell_type": "code",
   "execution_count": 9,
   "metadata": {},
   "outputs": [
    {
     "name": "stdout",
     "output_type": "stream",
     "text": [
      "Yes, the string ends with 'world'\n"
     ]
    }
   ],
   "source": [
    "import re\n",
    "\n",
    "txt = \"This is the third lab in information retrieval\"\n",
    "\n",
    "#Check if the string ends with 'world':\n",
    "\n",
    "x = re.findall(\"retrieval$\", txt)\n",
    "if x:\n",
    "  print(\"Yes, the string ends with 'world'\")\n",
    "else:\n",
    "  print(\"No match\")"
   ]
  },
  {
   "cell_type": "code",
   "execution_count": 14,
   "metadata": {},
   "outputs": [
    {
     "name": "stdout",
     "output_type": "stream",
     "text": [
      "['aix']\n",
      "Yes, there is at least one match!\n"
     ]
    }
   ],
   "source": [
    "import re\n",
    "\n",
    "txt = \"The aix ai n Spain falls mainly in the plain!\"\n",
    "\n",
    "\n",
    "#Check if the string contains \"ai\" followed by 1 or more \"x\" characters:\n",
    "\n",
    "x = re.findall(\"aix+\", txt)\n",
    "\n",
    "print(x)\n",
    "\n",
    "if x:\n",
    "  print(\"Yes, there is at least one match!\")\n",
    "else:\n",
    "  print(\"No match\")\n"
   ]
  },
  {
   "cell_type": "code",
   "execution_count": 16,
   "metadata": {},
   "outputs": [
    {
     "name": "stdout",
     "output_type": "stream",
     "text": [
      "['ainnn', 'ain']\n",
      "Yes, there is at least one match!\n"
     ]
    }
   ],
   "source": [
    "txt = \"The aix ai n Spain falls mainly in the plain!\"\n",
    "\n",
    "import re\n",
    "\n",
    "txt = \"rainnn rain raix \"\n",
    "\n",
    "#Check if the string contains \"ai\" followed by 1 or more \"x\" characters:\n",
    "\n",
    "x = re.findall(\"ain+\", txt)\n",
    "\n",
    "print(x)\n",
    "\n",
    "if x:\n",
    "  print(\"Yes, there is at least one match!\")\n",
    "else:\n",
    "  print(\"No match\")"
   ]
  },
  {
   "cell_type": "code",
   "execution_count": 23,
   "metadata": {},
   "outputs": [
    {
     "name": "stdout",
     "output_type": "stream",
     "text": [
      "[]\n",
      "No match\n"
     ]
    }
   ],
   "source": [
    "import re\n",
    "\n",
    "txt = 'Regular expression is a sequence of character(s) mainly used to find and replace patterns in a string or file'\n",
    "\n",
    "#Check if the string starts with 'hello':\n",
    "\n",
    "x = re.findall(\"^Regular\", txt)\n",
    "x = re.findall(\"File$\", txt)\n",
    "\n",
    "print(x)\n",
    "\n",
    "if x:\n",
    "  print(\"Yes, the string starts with 'hello'\")\n",
    "else:\n",
    "  print(\"No match\")\n"
   ]
  },
  {
   "cell_type": "code",
   "execution_count": 24,
   "metadata": {},
   "outputs": [
    {
     "name": "stdout",
     "output_type": "stream",
     "text": [
      " in a string or \n"
     ]
    }
   ],
   "source": [
    "txt= 'Regular expression is a sequence of character(s) mainly used to find and replace patterns in a string or file'\n",
    "\n",
    "start = txt.find(\"patterns\") + len(\"patterns\")\n",
    "end = txt.find(\"file\")\n",
    "substring = txt[start:end]\n",
    "print(substring)"
   ]
  },
  {
   "cell_type": "code",
   "execution_count": 25,
   "metadata": {},
   "outputs": [
    {
     "name": "stdout",
     "output_type": "stream",
     "text": [
      "patterns in a string or file\n"
     ]
    }
   ],
   "source": [
    "txt= 'Regular expression is a sequence of character(s) mainly used to find and replace patterns in a string or file'\n",
    "\n",
    "start = txt.find(\"patterns\") \n",
    "end = txt.find(\"file\") + + len(\"file\")\n",
    "substring = txt[start:end]\n",
    "print(substring)"
   ]
  },
  {
   "cell_type": "code",
   "execution_count": 30,
   "metadata": {},
   "outputs": [
    {
     "name": "stdout",
     "output_type": "stream",
     "text": [
      "we will see how to replace words using regular expressions such dose not , can not and so on\n"
     ]
    }
   ],
   "source": [
    "import re\n",
    "replacement_patterns = [\n",
    "(r'won\\'t', 'will not'),\n",
    "(r'can\\'t', 'cannot'),\n",
    "(r'i\\'m', 'i am'),\n",
    "(r'ain\\'t', 'is not'),\n",
    "(r'(\\w+)\\'ll', '\\g<1> will'),\n",
    "(r'(\\w+)n\\'t', '\\g<1> not'),\n",
    "(r'(\\w+)\\'ve', '\\g<1> have'),\n",
    "(r'(\\w+)\\'s', '\\g<1> is'),\n",
    "(r'(\\w+)\\'re', '\\g<1> are'),\n",
    "(r'(\\w+)\\'d', '\\g<1> would')]\n",
    "\n",
    "class RegexReplacer(object):\n",
    "  def __init__(self, patterns=replacement_patterns):\n",
    "    self.patterns = [(re.compile(regex), repl) for (regex, repl)in patterns]\n",
    "  def replace(self, text):\n",
    "    s = text\n",
    "    for (pattern, repl) in self.patterns:\n",
    "      (s, count) = re.subn(pattern, repl, s)\n",
    "    return s\n",
    "replacer= RegexReplacer()\n",
    "text= \"we'll see how to replace words using regular expressions such dosen't , cann't and so on\"\n",
    "print(replacer.replace(text))"
   ]
  },
  {
   "cell_type": "code",
   "execution_count": null,
   "metadata": {},
   "outputs": [],
   "source": [
    "#Exercise 3: Get a sentence from the user. If the sentencecontains any repeating characters, apply classRepeatReplacer to remove them.\n",
    "\n",
    "class RepeatReplacer(object):\n",
    "    def __init__(self):\n",
    "        self.repeat_regexp = re.compile(r'(\\w*)(\\w)\\2(\\w*)')\n",
    "        self.repl = r'\\1\\2\\3'\n",
    "        def replace(self, word): \n",
    "            repl_word = self.repeat_regexp.sub(self.repl, word) \n",
    "            if repl_word != word:\n",
    "                return self.replace(repl_word)\n",
    "            else:\n",
    "                return repl_word\n",
    "    \n",
    "\n",
    "\n",
    "replacer= RepeatReplacer()\n",
    "text= input(\"input your text:\")\n",
    "replacer.replace(text)"
   ]
  },
  {
   "cell_type": "code",
   "execution_count": null,
   "metadata": {},
   "outputs": [],
   "source": []
  }
 ],
 "metadata": {
  "kernelspec": {
   "display_name": "Python 3",
   "language": "python",
   "name": "python3"
  },
  "language_info": {
   "codemirror_mode": {
    "name": "ipython",
    "version": 3
   },
   "file_extension": ".py",
   "mimetype": "text/x-python",
   "name": "python",
   "nbconvert_exporter": "python",
   "pygments_lexer": "ipython3",
   "version": "3.7.4"
  }
 },
 "nbformat": 4,
 "nbformat_minor": 2
}
