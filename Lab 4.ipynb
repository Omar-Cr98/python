{
 "cells": [
  {
   "cell_type": "code",
   "execution_count": 2,
   "metadata": {},
   "outputs": [
    {
     "data": {
      "text/plain": [
       "'dimonstr'"
      ]
     },
     "execution_count": 2,
     "metadata": {},
     "output_type": "execute_result"
    }
   ],
   "source": [
    "import re\n",
    "from nltk.stem import PorterStemmer\n",
    "Stemmerporter = PorterStemmer() \n",
    "Stemmerporter.stem(\"dimonstration\")"
   ]
  },
  {
   "cell_type": "code",
   "execution_count": 6,
   "metadata": {},
   "outputs": [
    {
     "name": "stdout",
     "output_type": "stream",
     "text": [
      "dogs            -> dog\n",
      "programming     -> program\n",
      "programs        -> program\n",
      "programmed      -> program\n",
      "cakes           -> cake\n",
      "indices         -> indic\n",
      "matrices        -> matric\n"
     ]
    }
   ],
   "source": [
    "import nltk\n",
    "from nltk.stem import PorterStemmer\n",
    "porter = PorterStemmer()\n",
    "l_words = ['dogs', 'programming', 'programs', 'programmed', 'cakes', 'indices', 'matrices']\n",
    "for word in l_words:\n",
    "    print(f'{word} \\t -> {porter.stem(word)}'.expandtabs(15))"
   ]
  },
  {
   "cell_type": "code",
   "execution_count": 8,
   "metadata": {},
   "outputs": [],
   "source": [
    "sentence = 'A stemmer for English operating on the stem cat should identify such strings as cats, catlike, and catty. A stem ming algorithm might also reduce the words fishing, fished, and fisher to the stem fish. The stem need not be a word, for ex ample the Porter algorithm reduces, argue, argued, argues, arguing, and argus to the stem argu.' "
   ]
  },
  {
   "cell_type": "code",
   "execution_count": 9,
   "metadata": {},
   "outputs": [
    {
     "name": "stdout",
     "output_type": "stream",
     "text": [
      "['A stemmer for English operating on the stem cat should identify such strings as cats, catlike, and catty.', 'A stem ming algorithm might also reduce the words fishing, fished, and fisher to the stem fish.', 'The stem need not be a word, for ex ample the Porter algorithm reduces, argue, argued, argues, arguing, and argus to the stem argu.']\n"
     ]
    }
   ],
   "source": [
    "from nltk.tokenize import sent_tokenize \n",
    "print(sent_tokenize(sentence))"
   ]
  },
  {
   "cell_type": "code",
   "execution_count": 12,
   "metadata": {},
   "outputs": [
    {
     "data": {
      "text/plain": [
       "'A stemmer for english oper on the stem cat should identifi such string as cat , catlik , and catti . A stem algorithm might also reduc the word fish , fish , and fisher to the stem fish'"
      ]
     },
     "execution_count": 12,
     "metadata": {},
     "output_type": "execute_result"
    }
   ],
   "source": [
    "#Exersise 02\n",
    "\n",
    "from nltk.tokenize import sent_tokenize, word_tokenize\n",
    "sentence = \"A stemmer for English operating on the stem cat should identify such strings as cats, catlike, and catty. A stemming algorithm might also reduce the words fishing, fished, and fisher to the stem fish\"\n",
    "tokenized_words = word_tokenize(sentence)\n",
    "tokenized_sentence = []\n",
    "for word in tokenized_words:\n",
    "    tokenized_sentence.append(porter.stem(word))\n",
    "tokenized_sentence = \" \".join(tokenized_sentence)\n",
    "tokenized_sentence"
   ]
  },
  {
   "cell_type": "code",
   "execution_count": 13,
   "metadata": {},
   "outputs": [
    {
     "name": "stdout",
     "output_type": "stream",
     "text": [
      "A               -> A\n",
      "stemmer         -> stemmer\n",
      "for             -> for\n",
      "English         -> english\n",
      "operating       -> oper\n",
      "on              -> on\n",
      "the             -> the\n",
      "stem            -> stem\n",
      "cat             -> cat\n",
      "sh              -> sh\n",
      "ould            -> ould\n",
      "identify        -> identifi\n",
      "such            -> such\n",
      "strings         -> string\n",
      "as              -> as\n",
      "cats            -> cat\n",
      ",               -> ,\n",
      "catlike         -> catlik\n",
      ",               -> ,\n",
      "and             -> and\n",
      "catty           -> catti\n",
      ".               -> .\n",
      "A               -> A\n",
      "stem            -> stem\n",
      "ming            -> ming\n",
      "algorithm       -> algorithm\n",
      "might           -> might\n",
      "also            -> also\n",
      "reduce          -> reduc\n",
      "the             -> the\n",
      "words           -> word\n",
      "fishing         -> fish\n",
      ",               -> ,\n",
      "fished          -> fish\n",
      ",               -> ,\n",
      "an              -> an\n",
      "d               -> d\n",
      "fisher          -> fisher\n",
      "to              -> to\n",
      "the             -> the\n",
      "stem            -> stem\n",
      "fish            -> fish\n",
      ".               -> .\n",
      "The             -> the\n",
      "stem            -> stem\n",
      "need            -> need\n",
      "not             -> not\n",
      "be              -> be\n",
      "a               -> a\n",
      "word            -> word\n",
      ",               -> ,\n",
      "for             -> for\n",
      "ex              -> ex\n",
      "ample           -> ampl\n",
      "the             -> the\n",
      "Porter          -> porter\n",
      "algorithm       -> algorithm\n",
      "reduces         -> reduc\n",
      ",               -> ,\n",
      "argue           -> argu\n",
      ",               -> ,\n",
      "argued          -> argu\n",
      ",               -> ,\n",
      "argues          -> argu\n",
      ",               -> ,\n",
      "arg             -> arg\n",
      "uing            -> u\n",
      ",               -> ,\n",
      "and             -> and\n",
      "argus           -> argu\n",
      "to              -> to\n",
      "the             -> the\n",
      "stem            -> stem\n",
      "argu            -> argu\n",
      ".               -> .\n"
     ]
    }
   ],
   "source": [
    "#Exersise 02\n",
    "\n",
    "from nltk.tokenize import TreebankWordTokenizer\n",
    "\n",
    "sentence = '''A stemmer for English operating on the stem cat sh\n",
    "ould identify such strings as cats, catlike, and catty. A stem\n",
    "ming algorithm might also reduce the words fishing, fished, an\n",
    "d fisher to the stem fish. The stem need not be a word, for ex\n",
    "ample the Porter algorithm reduces, argue, argued, argues, arg\n",
    "uing, and argus to the stem argu.'''\n",
    "\n",
    "## tokenize the sentence\n",
    "list = nltk.word_tokenize(sentence)\n",
    "\n",
    "## print each word in the sentence before and after Stemming \n",
    "for word in list:\n",
    "    print(f'{word} \\t -> {porter.stem(word)}'.expandtabs(15))"
   ]
  },
  {
   "cell_type": "code",
   "execution_count": 14,
   "metadata": {},
   "outputs": [
    {
     "ename": "SyntaxError",
     "evalue": "can't assign to literal (<ipython-input-14-1091645d9add>, line 3)",
     "output_type": "error",
     "traceback": [
      "\u001b[0;36m  File \u001b[0;32m\"<ipython-input-14-1091645d9add>\"\u001b[0;36m, line \u001b[0;32m3\u001b[0m\n\u001b[0;31m    'حركات' =w\u001b[0m\n\u001b[0m              ^\u001b[0m\n\u001b[0;31mSyntaxError\u001b[0m\u001b[0;31m:\u001b[0m can't assign to literal\n"
     ]
    }
   ],
   "source": [
    "from nltk.stem.isri import ISRIStemmer\n",
    "st = ISRIStemmer()\n",
    "'حركات' =w\n",
    "print(st.stem(w)) "
   ]
  },
  {
   "cell_type": "code",
   "execution_count": 17,
   "metadata": {},
   "outputs": [
    {
     "name": "stdout",
     "output_type": "stream",
     "text": [
      "{\\rtf1\\ansi\\ansicpg1252\\cocoartf2512\n",
      "\\cocoatextscaling0\\cocoaplatform0{\\fonttbl\\f0\\fnil\\fcharset0 LucidaGrande;\\f1\\fswiss\\fcharset0 ArialMT;}\n",
      "{\\colortbl;\\red255\\green255\\blue255;\\red29\\green29\\blue29;\\red255\\green255\\blue255;}\n",
      "{\\*\\expandedcolortbl;;\\cssrgb\\c14902\\c14902\\c14902;\\cssrgb\\c100000\\c100000\\c100000;}\n",
      "\\paperw11900\\paperh16840\\margl1440\\margr1440\\vieww13260\\viewh10200\\viewkind0\n",
      "\\pard\\tx566\\tx1133\\tx1700\\tx2267\\tx2834\\tx3401\\tx3968\\tx4535\\tx5102\\tx5669\\tx6236\\tx6803\\pardirnatural\\partightenfactor0\n",
      "\n",
      "\\f0\\fs24 \\cf0 \\\n",
      "\\\n",
      "\\pard\\pardeftab720\\partightenfactor0\n",
      "\n",
      "\\f1\\fs28 \\cf2 \\cb3 \\expnd0\\expndtw0\\kerning0\n",
      "\\outl0\\strokewidth0 \\strokec2 It iterates through all the words in the text, if the word already exists in the\\\n",
      "corpus, it increments the frequency count for the word\\\n",
      "Stemmed sentence\\\n",
      "It iter through all the word in the text , if the word alreadi exist in the corpu , it increment the frequenc count for the word }\n",
      "Stemmed sentence\n",
      "{\\rtf1\\ansi\\ansicpg1252\\cocoartf2512\\cocoatextscaling0\\cocoaplatform0{\\fonttbl\\f0\\fnil\\fcharset0lucidagrand;\\f1\\fswiss\\fcharset0arialmt;}{\\colortbl;\\red255\\green255\\blue255;\\red29\\green29\\blue29;\\red255\\green255\\blue255;}{\\*\\expandedcolortbl;;\\cssrgb\\c14902\\c14902\\c14902;\\cssrgb\\c100000\\c100000\\c100000;}\\paperw11900\\paperh16840\\margl1440\\margr1440\\vieww13260\\viewh10200\\viewkind0\\pard\\tx566\\tx1133\\tx1700\\tx2267\\tx2834\\tx3401\\tx3968\\tx4535\\tx5102\\tx5669\\tx6236\\tx6803\\pardirnatural\\partightenfactor0\\f0\\fs24\\cf0\\\\\\pard\\pardeftab720\\partightenfactor0\\f1\\fs28\\cf2\\cb3\\expnd0\\expndtw0\\kerning0\\outl0\\strokewidth0\\strokec2Ititerthroughallthewordinthetext,ifthewordalreadiexistinthe\\corpu,itincrementthefrequenccountfortheword\\stemsentence\\Ititerthroughallthewordinthetext,ifthewordalreadiexistinthecorpu,itincrementthefrequenccountfortheword} \n"
     ]
    }
   ],
   "source": [
    "file=open(\"/Users/omaralamri/Desktop/analysis.txt\")\n",
    "Sentences= file.read()\n",
    "def stemSentence(sentence):\n",
    " token_words=word_tokenize(sentence)\n",
    " token_words\n",
    " stem_sentence=[]\n",
    " for word in token_words: \n",
    "        \n",
    "        stem_sentence.append(porter.stem(word))\n",
    " stem_sentence.append(\" \")\n",
    " return \"\".join(stem_sentence)\n",
    "print(Sentences)\n",
    "print(\"Stemmed sentence\")\n",
    "x=stemSentence(Sentences)\n",
    "print(x) "
   ]
  },
  {
   "cell_type": "code",
   "execution_count": 18,
   "metadata": {},
   "outputs": [
    {
     "name": "stdout",
     "output_type": "stream",
     "text": [
      "{\\rtf1\\ansi\\ansicpg1252\\cocoartf2512\n",
      "\\cocoatextscaling0\\cocoaplatform0{\\fonttbl\\f0\\fnil\\fcharset0 LucidaGrande;\\f1\\fswiss\\fcharset0 ArialMT;}\n",
      "{\\colortbl;\\red255\\green255\\blue255;\\red29\\green29\\blue29;\\red255\\green255\\blue255;}\n",
      "{\\*\\expandedcolortbl;;\\cssrgb\\c14902\\c14902\\c14902;\\cssrgb\\c100000\\c100000\\c100000;}\n",
      "\\paperw11900\\paperh16840\\margl1440\\margr1440\\vieww13260\\viewh10200\\viewkind0\n",
      "\\pard\\tx566\\tx1133\\tx1700\\tx2267\\tx2834\\tx3401\\tx3968\\tx4535\\tx5102\\tx5669\\tx6236\\tx6803\\pardirnatural\\partightenfactor0\n",
      "\n",
      "\\f0\\fs24 \\cf0 \\\n",
      "\\\n",
      "\\pard\\pardeftab720\\partightenfactor0\n",
      "\n",
      "\\f1\\fs28 \\cf2 \\cb3 \\expnd0\\expndtw0\\kerning0\n",
      "\\outl0\\strokewidth0 \\strokec2 It iterates through all the words in the text, if the word already exists in the\\\n",
      "corpus, it increments the frequency count for the word\\\n",
      "Stemmed sentence\\\n",
      "It iter through all the word in the text , if the word alreadi exist in the corpu , it increment the frequenc count for the word }\n",
      "==========\n",
      "Stemmed sentence\n",
      "==========\n",
      "{ \\rtf1\\ansi\\ansicpg1252\\cocoartf2512 \\cocoatextscaling0\\cocoaplatform0 { \\fonttbl\\f0\\fnil\\fcharset0 lucidagrand ; \\f1\\fswiss\\fcharset0 arialmt ; } { \\colortbl ; \\red255\\green255\\blue255 ; \\red29\\green29\\blue29 ; \\red255\\green255\\blue255 ; } { \\*\\expandedcolortbl ; ; \\cssrgb\\c14902\\c14902\\c14902 ; \\cssrgb\\c100000\\c100000\\c100000 ; } \\paperw11900\\paperh16840\\margl1440\\margr1440\\vieww13260\\viewh10200\\viewkind0 \\pard\\tx566\\tx1133\\tx1700\\tx2267\\tx2834\\tx3401\\tx3968\\tx4535\\tx5102\\tx5669\\tx6236\\tx6803\\pardirnatural\\partightenfactor0 \\f0\\fs24 \\cf0 \\ \\ \\pard\\pardeftab720\\partightenfactor0 \\f1\\fs28 \\cf2 \\cb3 \\expnd0\\expndtw0\\kerning0 \\outl0\\strokewidth0 \\strokec2 It iter through all the word in the text , if the word alreadi exist in the\\ corpu , it increment the frequenc count for the word\\ stem sentence\\ It iter through all the word in the text , if the word alreadi exist in the corpu , it increment the frequenc count for the word } \n"
     ]
    }
   ],
   "source": [
    "file=open(\"/Users/omaralamri/Desktop/analysis.txt\")\n",
    "Sentences= file.read()\n",
    "\n",
    "def stemSentence(sentence): \n",
    "    token_words=word_tokenize(sentence) \n",
    "    token_words\n",
    "    stem_sentence=[]\n",
    "    for word in token_words:\n",
    "        stem_sentence.append(porter.stem(word))\n",
    "        stem_sentence.append(\" \") \n",
    "    return \"\".join(stem_sentence)\n",
    "\n",
    "print(Sentences) \n",
    "print(\"==========\")\n",
    "print(\"Stemmed sentence\") \n",
    "print(\"==========\")\n",
    "x=stemSentence(Sentences) \n",
    "print(x)"
   ]
  },
  {
   "cell_type": "code",
   "execution_count": 19,
   "metadata": {},
   "outputs": [
    {
     "name": "stderr",
     "output_type": "stream",
     "text": [
      "[nltk_data] Downloading package wordnet to\n",
      "[nltk_data]     /Users/omaralamri/nltk_data...\n",
      "[nltk_data]   Unzipping corpora/wordnet.zip.\n"
     ]
    },
    {
     "data": {
      "text/plain": [
       "True"
      ]
     },
     "execution_count": 19,
     "metadata": {},
     "output_type": "execute_result"
    }
   ],
   "source": [
    "nltk.download('wordnet')\n"
   ]
  },
  {
   "cell_type": "code",
   "execution_count": 24,
   "metadata": {},
   "outputs": [
    {
     "name": "stdout",
     "output_type": "stream",
     "text": [
      "Word                Lemma               \n",
      "He                  He                  \n",
      "was                 wa                  \n",
      "running             running             \n",
      "and                 and                 \n",
      "eating              eating              \n",
      "at                  at                  \n",
      "same                same                \n",
      "time                time                \n",
      "He                  He                  \n",
      "has                 ha                  \n",
      "bad                 bad                 \n",
      "habit               habit               \n",
      "of                  of                  \n",
      "swimming            swimming            \n",
      "after               after               \n",
      "playing             playing             \n",
      "long                long                \n",
      "hours               hour                \n",
      "in                  in                  \n",
      "the                 the                 \n",
      "Sun                 Sun                 \n",
      ".                   .                   \n",
      "Word                Lemma               \n",
      "He                  He                  \n",
      "was                 wa                  \n",
      "running             running             \n",
      "and                 and                 \n",
      "eating              eating              \n",
      "at                  at                  \n",
      "same                same                \n",
      "time                time                \n",
      "He                  He                  \n",
      "has                 ha                  \n",
      "bad                 bad                 \n",
      "habit               habit               \n",
      "of                  of                  \n",
      "swimming            swimming            \n",
      "after               after               \n",
      "playing             playing             \n",
      "long                long                \n",
      "hours               hour                \n",
      "in                  in                  \n",
      "the                 the                 \n",
      "Sun                 Sun                 \n"
     ]
    }
   ],
   "source": [
    "from nltk.stem import WordNetLemmatizer\n",
    "wordnet_lemmatizer = WordNetLemmatizer()\n",
    "sentence = \"He was running and eating at same time. He has bad habit of swimming after playing long hours in the Sun.\"\n",
    "punctuations=\"?:!.,;\"\n",
    "sentence_words = nltk.word_tokenize(sentence)\n",
    "for word in sentence_words:\n",
    "    if word in punctuations:\n",
    "        sentence_words.remove(word)\n",
    "        sentence_words\n",
    "        print(\"{0:20}{1:20}\".format(\"Word\",\"Lemma\"))\n",
    "        for word in sentence_words:\n",
    "            print (\"{0:20}{1:20}\".format(word,wordnet_lemmatizer.lemmatize(word))) "
   ]
  },
  {
   "cell_type": "code",
   "execution_count": null,
   "metadata": {},
   "outputs": [],
   "source": []
  }
 ],
 "metadata": {
  "kernelspec": {
   "display_name": "Python 3",
   "language": "python",
   "name": "python3"
  },
  "language_info": {
   "codemirror_mode": {
    "name": "ipython",
    "version": 3
   },
   "file_extension": ".py",
   "mimetype": "text/x-python",
   "name": "python",
   "nbconvert_exporter": "python",
   "pygments_lexer": "ipython3",
   "version": "3.7.4"
  }
 },
 "nbformat": 4,
 "nbformat_minor": 2
}
